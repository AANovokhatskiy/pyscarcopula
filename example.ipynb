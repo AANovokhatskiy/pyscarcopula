{
 "cells": [
  {
   "cell_type": "code",
   "execution_count": 2,
   "metadata": {},
   "outputs": [],
   "source": [
    "import pandas as pd\n",
    "import numpy as np\n",
    "\n",
    "moex_data = pd.read_csv(\"data/moex_top.csv\", index_col=0)\n",
    "tickers = ['AFLT', 'LSRG', 'GAZP', 'NLMK']\n",
    "\n",
    "returns_pd = np.log(moex_data[tickers] / moex_data[tickers].shift(1))[1:501]\n",
    "returns = returns_pd.values"
   ]
  },
  {
   "cell_type": "code",
   "execution_count": 3,
   "metadata": {},
   "outputs": [],
   "source": [
    "from pyscarcopula import GumbelCopula\n",
    "\n",
    "n = len(tickers)\n",
    "copula = GumbelCopula(dim = n)"
   ]
  },
  {
   "cell_type": "code",
   "execution_count": 4,
   "metadata": {},
   "outputs": [
    {
     "data": {
      "text/latex": [
       "$\\displaystyle e^{- \\left(\\left(- \\log{\\left(u_{0} \\right)}\\right)^{r} + \\left(- \\log{\\left(u_{1} \\right)}\\right)^{r} + \\left(- \\log{\\left(u_{2} \\right)}\\right)^{r} + \\left(- \\log{\\left(u_{3} \\right)}\\right)^{r}\\right)^{\\frac{1}{r}}}$"
      ],
      "text/plain": [
       "exp(-((-log(u0))**r + (-log(u1))**r + (-log(u2))**r + (-log(u3))**r)**(1/r))"
      ]
     },
     "execution_count": 4,
     "metadata": {},
     "output_type": "execute_result"
    }
   ],
   "source": [
    "copula.sp_cdf()"
   ]
  },
  {
   "cell_type": "code",
   "execution_count": 5,
   "metadata": {},
   "outputs": [
    {
     "data": {
      "text/plain": [
       "           message: CONVERGENCE: NORM_OF_PROJECTED_GRADIENT_<=_PGTOL\n",
       "           success: True\n",
       "            status: 0\n",
       "               fun: 184.1481158495324\n",
       "                 x: [ 1.636e+01  5.775e-01  1.355e+00]\n",
       "               nit: 15\n",
       "               jac: [-8.664e-05 -1.237e-03  4.949e-04]\n",
       "              nfev: 80\n",
       "              njev: 20\n",
       "          hess_inv: <3x3 LbfgsInvHessProduct with dtype=float64>\n",
       "              name: Gumbel copula\n",
       "            method: scar-m-ou\n",
       " latent_process_tr: 500\n",
       "        stationary: False\n",
       "      M_iterations: 5"
      ]
     },
     "execution_count": 5,
     "metadata": {},
     "output_type": "execute_result"
    }
   ],
   "source": [
    "fit_result = copula.fit(data = returns, method = 'scar-m-ou', seed = 333)\n",
    "fit_result"
   ]
  },
  {
   "cell_type": "code",
   "execution_count": 11,
   "metadata": {},
   "outputs": [
    {
     "data": {
      "text/plain": [
       "CramerVonMisesResult(statistic=0.12957361510979126, pvalue=0.45838687740863493)"
      ]
     },
     "execution_count": 11,
     "metadata": {},
     "output_type": "execute_result"
    }
   ],
   "source": [
    "from pyscarcopula.stattests import gof_test\n",
    "\n",
    "gof_test(copula, returns, fit_result, to_pobs=True)"
   ]
  },
  {
   "cell_type": "code",
   "execution_count": 7,
   "metadata": {},
   "outputs": [
    {
     "data": {
      "text/plain": [
       "array([[0.88091748, 0.70756757, 0.64565987, 0.7833713 ],\n",
       "       [0.8552279 , 0.50967349, 0.33780333, 0.16726293],\n",
       "       [0.58522211, 0.24104297, 0.18498946, 0.09296629],\n",
       "       ...,\n",
       "       [0.04284005, 0.37928921, 0.3755855 , 0.17400107],\n",
       "       [0.67446833, 0.7429498 , 0.2290509 , 0.2708168 ],\n",
       "       [0.63081495, 0.19823407, 0.00522286, 0.70632261]])"
      ]
     },
     "execution_count": 7,
     "metadata": {},
     "output_type": "execute_result"
    }
   ],
   "source": [
    "copula.get_sample(N = 1000, r = 1.2)"
   ]
  },
  {
   "cell_type": "code",
   "execution_count": null,
   "metadata": {},
   "outputs": [
    {
     "data": {
      "text/plain": [
       "array([[0.59936732, 0.33058933, 0.10557388, 0.29451831],\n",
       "       [0.33435127, 0.06403805, 0.69106635, 0.38588201],\n",
       "       [0.40675246, 0.04992368, 0.13363349, 0.24940976],\n",
       "       ...,\n",
       "       [0.70255196, 0.2888087 , 0.95191728, 0.82532915],\n",
       "       [0.86356958, 0.85104932, 0.93851509, 0.91945519],\n",
       "       [0.29026234, 0.27395521, 0.21382627, 0.13741996]])"
      ]
     },
     "execution_count": 12,
     "metadata": {},
     "output_type": "execute_result"
    }
   ],
   "source": [
    "from pyscarcopula.sampler.sampler_ou import stationary_state_ou\n",
    "\n",
    "size = 2000\n",
    "random_process_state = copula.transform(stationary_state_ou(fit_result.x, size))\n",
    "\n",
    "copula.get_sample(N = size, r = random_process_state)"
   ]
  }
 ],
 "metadata": {
  "kernelspec": {
   "display_name": "Python 3",
   "language": "python",
   "name": "python3"
  },
  "language_info": {
   "codemirror_mode": {
    "name": "ipython",
    "version": 3
   },
   "file_extension": ".py",
   "mimetype": "text/x-python",
   "name": "python",
   "nbconvert_exporter": "python",
   "pygments_lexer": "ipython3",
   "version": "3.12.9"
  }
 },
 "nbformat": 4,
 "nbformat_minor": 2
}
